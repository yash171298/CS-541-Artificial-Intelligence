{
 "cells": [
  {
   "cell_type": "code",
   "execution_count": 12,
   "id": "06aea4d5",
   "metadata": {},
   "outputs": [],
   "source": [
    "import pandas as pd\n",
    "from itertools import cycle, islice"
   ]
  },
  {
   "cell_type": "code",
   "execution_count": 15,
   "id": "1bdf465e",
   "metadata": {},
   "outputs": [],
   "source": [
    "n=[\"n=1\",\"n=2\",\"n=3\",\"n=4\",\"n=5\",\"n=6\",\"n=7\"]\n",
    "ted= [313.90,90.65,82.12,121.44,208.19,358.33,594.25]\n",
    "red= [549.54,221.05,277.55,491.95,913.89,1629.46,2733.56]\n",
    "news=[707.12,279.18,358.45,665.89,1318.88,2533.91,4652.04]"
   ]
  },
  {
   "cell_type": "code",
   "execution_count": 16,
   "id": "5c8e552b",
   "metadata": {},
   "outputs": [
    {
     "data": {
      "text/html": [
       "<div>\n",
       "<style scoped>\n",
       "    .dataframe tbody tr th:only-of-type {\n",
       "        vertical-align: middle;\n",
       "    }\n",
       "\n",
       "    .dataframe tbody tr th {\n",
       "        vertical-align: top;\n",
       "    }\n",
       "\n",
       "    .dataframe thead th {\n",
       "        text-align: right;\n",
       "    }\n",
       "</style>\n",
       "<table border=\"1\" class=\"dataframe\">\n",
       "  <thead>\n",
       "    <tr style=\"text-align: right;\">\n",
       "      <th></th>\n",
       "      <th>N-GRAMS</th>\n",
       "      <th>test_ted</th>\n",
       "      <th>test_reddit</th>\n",
       "      <th>test_news</th>\n",
       "    </tr>\n",
       "  </thead>\n",
       "  <tbody>\n",
       "    <tr>\n",
       "      <th>0</th>\n",
       "      <td>n=1</td>\n",
       "      <td>313.90</td>\n",
       "      <td>549.54</td>\n",
       "      <td>707.12</td>\n",
       "    </tr>\n",
       "    <tr>\n",
       "      <th>1</th>\n",
       "      <td>n=2</td>\n",
       "      <td>90.65</td>\n",
       "      <td>221.05</td>\n",
       "      <td>279.18</td>\n",
       "    </tr>\n",
       "    <tr>\n",
       "      <th>2</th>\n",
       "      <td>n=3</td>\n",
       "      <td>82.12</td>\n",
       "      <td>277.55</td>\n",
       "      <td>358.45</td>\n",
       "    </tr>\n",
       "    <tr>\n",
       "      <th>3</th>\n",
       "      <td>n=4</td>\n",
       "      <td>121.44</td>\n",
       "      <td>491.95</td>\n",
       "      <td>665.89</td>\n",
       "    </tr>\n",
       "    <tr>\n",
       "      <th>4</th>\n",
       "      <td>n=5</td>\n",
       "      <td>208.19</td>\n",
       "      <td>913.89</td>\n",
       "      <td>1318.88</td>\n",
       "    </tr>\n",
       "    <tr>\n",
       "      <th>5</th>\n",
       "      <td>n=6</td>\n",
       "      <td>358.33</td>\n",
       "      <td>1629.46</td>\n",
       "      <td>2533.91</td>\n",
       "    </tr>\n",
       "    <tr>\n",
       "      <th>6</th>\n",
       "      <td>n=7</td>\n",
       "      <td>594.25</td>\n",
       "      <td>2733.56</td>\n",
       "      <td>4652.04</td>\n",
       "    </tr>\n",
       "  </tbody>\n",
       "</table>\n",
       "</div>"
      ],
      "text/plain": [
       "  N-GRAMS  test_ted  test_reddit  test_news\n",
       "0     n=1    313.90       549.54     707.12\n",
       "1     n=2     90.65       221.05     279.18\n",
       "2     n=3     82.12       277.55     358.45\n",
       "3     n=4    121.44       491.95     665.89\n",
       "4     n=5    208.19       913.89    1318.88\n",
       "5     n=6    358.33      1629.46    2533.91\n",
       "6     n=7    594.25      2733.56    4652.04"
      ]
     },
     "execution_count": 16,
     "metadata": {},
     "output_type": "execute_result"
    }
   ],
   "source": [
    "df= pd.DataFrame(ted)\n",
    "df[\"N-GRAMS\"]= n\n",
    "df[\"test_ted\"]= ted\n",
    "df[\"test_reddit\"]= red\n",
    "df[\"test_news\"]= news\n",
    "df.drop([0],axis=1)"
   ]
  },
  {
   "cell_type": "code",
   "execution_count": 17,
   "id": "247b92e3",
   "metadata": {},
   "outputs": [
    {
     "data": {
      "text/plain": [
       "<AxesSubplot:xlabel='N-GRAMS'>"
      ]
     },
     "execution_count": 17,
     "metadata": {},
     "output_type": "execute_result"
    },
    {
     "data": {
      "image/png": "[encoded data removed]",
      "text/plain": [
       "<Figure size 432x288 with 1 Axes>"
      ]
     },
     "metadata": {
      "needs_background": "light"
     },
     "output_type": "display_data"
    }
   ],
   "source": [
    "my_colors = list(islice(cycle(['b', 'r', 'g', 'y', 'k']), None, len(df)))\n",
    "df.plot(x=\"N-GRAMS\",y=[\"test_ted\",\"test_reddit\",\"test_news\"],kind=\"bar\",rot=0, color=my_colors)"
   ]
  },
  {
   "cell_type": "code",
   "execution_count": 5,
   "id": "20a56d58",
   "metadata": {},
   "outputs": [],
   "source": [
    "n_=[\"n=1\",\"n=2\",\"n=3\",\"n=4\",\"n=5\",\"n=6\",\"n=7\"]"
   ]
  },
  {
   "cell_type": "code",
   "execution_count": 21,
   "id": "2c2a87c3",
   "metadata": {},
   "outputs": [],
   "source": [
    "ted2=[270.98,114.17,145.48,259.98,482.64,853.75,1426.02]\n",
    "red2=[347.54,138.22,174.89,309.25,565.72,1007.35,1673.27]\n",
    "news2=[425.15,234.74,358.30,711.47,1409.25,2713.39,4977.61]"
   ]
  },
  {
   "cell_type": "code",
   "execution_count": 22,
   "id": "4a949256",
   "metadata": {},
   "outputs": [
    {
     "data": {
      "text/html": [
       "<div>\n",
       "<style scoped>\n",
       "    .dataframe tbody tr th:only-of-type {\n",
       "        vertical-align: middle;\n",
       "    }\n",
       "\n",
       "    .dataframe tbody tr th {\n",
       "        vertical-align: top;\n",
       "    }\n",
       "\n",
       "    .dataframe thead th {\n",
       "        text-align: right;\n",
       "    }\n",
       "</style>\n",
       "<table border=\"1\" class=\"dataframe\">\n",
       "  <thead>\n",
       "    <tr style=\"text-align: right;\">\n",
       "      <th></th>\n",
       "      <th>N-GRAMS</th>\n",
       "      <th>test_ted</th>\n",
       "      <th>test_reddit</th>\n",
       "      <th>test_news</th>\n",
       "    </tr>\n",
       "  </thead>\n",
       "  <tbody>\n",
       "    <tr>\n",
       "      <th>0</th>\n",
       "      <td>n=1</td>\n",
       "      <td>270.98</td>\n",
       "      <td>347.54</td>\n",
       "      <td>425.15</td>\n",
       "    </tr>\n",
       "    <tr>\n",
       "      <th>1</th>\n",
       "      <td>n=2</td>\n",
       "      <td>114.17</td>\n",
       "      <td>138.22</td>\n",
       "      <td>234.74</td>\n",
       "    </tr>\n",
       "    <tr>\n",
       "      <th>2</th>\n",
       "      <td>n=3</td>\n",
       "      <td>145.48</td>\n",
       "      <td>174.89</td>\n",
       "      <td>358.30</td>\n",
       "    </tr>\n",
       "    <tr>\n",
       "      <th>3</th>\n",
       "      <td>n=4</td>\n",
       "      <td>259.98</td>\n",
       "      <td>309.25</td>\n",
       "      <td>711.47</td>\n",
       "    </tr>\n",
       "    <tr>\n",
       "      <th>4</th>\n",
       "      <td>n=5</td>\n",
       "      <td>482.64</td>\n",
       "      <td>565.72</td>\n",
       "      <td>1409.25</td>\n",
       "    </tr>\n",
       "    <tr>\n",
       "      <th>5</th>\n",
       "      <td>n=6</td>\n",
       "      <td>853.75</td>\n",
       "      <td>1007.35</td>\n",
       "      <td>2713.39</td>\n",
       "    </tr>\n",
       "    <tr>\n",
       "      <th>6</th>\n",
       "      <td>n=7</td>\n",
       "      <td>1426.02</td>\n",
       "      <td>1673.27</td>\n",
       "      <td>4977.61</td>\n",
       "    </tr>\n",
       "  </tbody>\n",
       "</table>\n",
       "</div>"
      ],
      "text/plain": [
       "  N-GRAMS  test_ted  test_reddit  test_news\n",
       "0     n=1    270.98       347.54     425.15\n",
       "1     n=2    114.17       138.22     234.74\n",
       "2     n=3    145.48       174.89     358.30\n",
       "3     n=4    259.98       309.25     711.47\n",
       "4     n=5    482.64       565.72    1409.25\n",
       "5     n=6    853.75      1007.35    2713.39\n",
       "6     n=7   1426.02      1673.27    4977.61"
      ]
     },
     "execution_count": 22,
     "metadata": {},
     "output_type": "execute_result"
    }
   ],
   "source": [
    "d_f= pd.DataFrame(test__ted)\n",
    "d_f[\"N-GRAMS\"]= n_\n",
    "d_f[\"test_ted\"]= ted2\n",
    "d_f[\"test_reddit\"]= red2\n",
    "d_f[\"test_news\"]= news2\n",
    "d_f.drop([0],axis=1)"
   ]
  },
  {
   "cell_type": "code",
   "execution_count": 23,
   "id": "aedae3ce",
   "metadata": {},
   "outputs": [
    {
     "data": {
      "text/plain": [
       "<AxesSubplot:xlabel='N-GRAMS'>"
      ]
     },
     "execution_count": 23,
     "metadata": {},
     "output_type": "execute_result"
    },
    {
     "data": {
      "image/png": "[encoded data removed]",
      "text/plain": [
       "<Figure size 432x288 with 1 Axes>"
      ]
     },
     "metadata": {
      "needs_background": "light"
     },
     "output_type": "display_data"
    }
   ],
   "source": [
    "d_f.plot(x=\"N-GRAMS\",y=[\"test_ted\",\"test_reddit\",\"test_news\"],kind=\"bar\",rot=0, color=my_colors)"
   ]
  },
  {
   "cell_type": "code",
   "execution_count": null,
   "id": "880bd1f6",
   "metadata": {},
   "outputs": [],
   "source": []
  }
 ],
 "metadata": {
  "kernelspec": {
   "display_name": "Python 3 (ipykernel)",
   "language": "python",
   "name": "python3"
  },
  "language_info": {
   "codemirror_mode": {
    "name": "ipython",
    "version": 3
   },
   "file_extension": ".py",
   "mimetype": "text/x-python",
   "name": "python",
   "nbconvert_exporter": "python",
   "pygments_lexer": "ipython3",
   "version": "3.9.7"
  }
 },
 "nbformat": 4,
 "nbformat_minor": 5
}
