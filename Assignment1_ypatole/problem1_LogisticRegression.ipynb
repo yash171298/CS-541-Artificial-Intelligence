{
 "cells": [
  {
   "cell_type": "code",
   "execution_count": null,
   "id": "31207614",
   "metadata": {},
   "outputs": [],
   "source": [
    "import pandas as pd\n",
    "import math\n",
    "import matplotlib.pyplot as plt\n",
    "import numpy as np"
   ]
  },
  {
   "cell_type": "code",
   "execution_count": null,
   "id": "888b0be9",
   "metadata": {},
   "outputs": [],
   "source": [
    "data = pd.read_csv(\"Documents/Assignment 1/swad_train.csv\")\n",
    "print(data)"
   ]
  },
  {
   "cell_type": "code",
   "execution_count": null,
   "id": "1c13d7c7",
   "metadata": {},
   "outputs": [],
   "source": [
    "data.isnull().sum()"
   ]
  },
  {
   "cell_type": "code",
   "execution_count": null,
   "id": "3457da07",
   "metadata": {},
   "outputs": [],
   "source": [
    "tweets = data['Tweet']\n",
    "data['Tweet'] = data['Tweet'].str.lower()\n",
    "data['Tweet'] = data['Tweet'].str.replace( \"@user\", \" \", regex=True) "
   ]
  },
  {
   "cell_type": "code",
   "execution_count": null,
   "id": "b796accf",
   "metadata": {},
   "outputs": [],
   "source": [
    "  \n",
    "\n",
    "f = open(\"Documents/Assignment 1/punctuations.txt\", \"r\")\n",
    "punctuations = f.read()\n",
    "punctuations = punctuations.split('\\n')\n",
    "for i in punctuations:\n",
    "    data['Tweet'] = data['Tweet'].str.replace( i, \" %s \"%(i,), regex=True) \n",
    "    data['Tweet'] = data['Tweet'].str.replace( i, \"\", regex=True) \n",
    "print(data)\n",
    "\n",
    "        "
   ]
  },
  {
   "cell_type": "code",
   "execution_count": null,
   "id": "37822c05",
   "metadata": {},
   "outputs": [],
   "source": [
    "f  = open(\"Documents/Assignment 1/stopwords.txt\", \"r\")\n",
    "stopwords = f.read()\n",
    "stopwords = stopwords.split('\\n')\n",
    "temp =[]\n",
    "\n",
    "for i in range(len(data['Tweet'])):\n",
    "    x = data['Tweet'][i].split()\n",
    "    resultwords  = [word for word in x if word.lower() not in stopwords]\n",
    "    data['Tweet'][i] = ' '.join(resultwords)\n",
    "    \n",
    "print(data)  "
   ]
  },
  {
   "cell_type": "code",
   "execution_count": null,
   "id": "9ca0af26",
   "metadata": {},
   "outputs": [],
   "source": [
    "total_vocab = [x for x in data['Tweet']]\n",
    "bagofwords = []\n",
    "total_count = 0\n",
    "for i in total_vocab:\n",
    "    tempwords = []\n",
    "    tempwords.append(i.split())\n",
    "    for x in tempwords:\n",
    "        bagofwords.append(x)\n",
    "    total_count += len(i.split()) \n",
    "print((total_vocab))"
   ]
  },
  {
   "cell_type": "code",
   "execution_count": null,
   "id": "d6a6180d",
   "metadata": {},
   "outputs": [],
   "source": [
    "def getUniqueWords(allWords) :\n",
    "    uniqueWords = [] \n",
    "    for j in allWords:     \n",
    "        for i in j:\n",
    "            if not i in uniqueWords:\n",
    "                uniqueWords.append(i)\n",
    "    return uniqueWords\n",
    "unique = getUniqueWords(bagofwords)\n",
    "print(len(unique))"
   ]
  },
  {
   "cell_type": "code",
   "execution_count": null,
   "id": "e9e28203",
   "metadata": {},
   "outputs": [],
   "source": [
    "bagofword1 = data['Tweet'][0]\n",
    "bagofword1 = bagofword1.split(' ')\n",
    "bagofword2 = data['Tweet'][1]\n",
    "bagofword2 = bagofword2.split(' ')\n",
    "print(bagofword2)"
   ]
  },
  {
   "cell_type": "code",
   "execution_count": null,
   "id": "9b2f5e6f",
   "metadata": {},
   "outputs": [],
   "source": [
    "word2count = {} \n",
    "for j in data['Tweet']:\n",
    "    j = j.split()\n",
    "    words = j\n",
    "    for word in words:\n",
    "            if word not in word2count.keys(): \n",
    "                word2count[word] = 1\n",
    "            else: \n",
    "                word2count[word] += 1\n",
    "\n",
    "total_words = [x for x in word2count]\n",
    "print(len(total_words))"
   ]
  },
  {
   "cell_type": "code",
   "execution_count": null,
   "id": "2ff36c6f",
   "metadata": {},
   "outputs": [],
   "source": [
    "new_myarray = []\n",
    "key_object = {}\n",
    "for j in range(len(data['Tweet'])):\n",
    "    u = data['Tweet'][j]\n",
    "    u = u.split()\n",
    "    key_object[j] = u\n",
    "new_arr = []\n",
    "for i in key_object.values():\n",
    "    new_arr.append(i)\n"
   ]
  },
  {
   "cell_type": "code",
   "execution_count": null,
   "id": "f77898ad",
   "metadata": {},
   "outputs": [],
   "source": [
    "\n",
    "def func(bagofwords):\n",
    "    numOfWordsA = dict.fromkeys(total_words, 0)\n",
    "    for word in bagofwords:\n",
    "        numOfWordsA[word] += 1\n",
    "    return numOfWordsA\n",
    "please = []\n",
    "for h in range(len(new_arr)):\n",
    "    d = func(new_arr[h])\n",
    "    \n",
    "    please.append(d)\n",
    "func_data = pd.DataFrame(please)\n",
    "func_data"
   ]
  },
  {
   "cell_type": "code",
   "execution_count": null,
   "id": "3021cf9d",
   "metadata": {},
   "outputs": [],
   "source": [
    "import collections \n",
    "tf_idf = {}\n",
    "for j in data['Tweet']:\n",
    "    j = j.split()\n",
    "    tokens = j\n",
    "    counter = collections.Counter(tokens + j)\n",
    "    for token in np.unique(tokens):\n",
    "        tf = counter[token]/len(total_words)\n",
    "        df = word2count.get(token)\n",
    "        idf = np.log(len(data['Tweet'])/(df+1))\n",
    "        tf_idf[token] = tf*idf\n",
    "tf_idf"
   ]
  },
  {
   "cell_type": "code",
   "execution_count": null,
   "id": "75819940",
   "metadata": {},
   "outputs": [],
   "source": [
    "dictionary = func_data.iloc[0]\n",
    "dictionary = pd.DataFrame(dictionary)\n",
    "dictionary = dictionary.to_dict()\n",
    "for x in dictionary.values():\n",
    "    print(x)"
   ]
  },
  {
   "cell_type": "code",
   "execution_count": null,
   "id": "6ec6e7de",
   "metadata": {},
   "outputs": [],
   "source": [
    "def computeTFIDF(tfBagOfWords, idfs):\n",
    "    tfidf = {}\n",
    "    for word, val in tfBagOfWords.items():\n",
    "        \n",
    "        tfidf[word] = val * idfs[word]\n",
    "    return tfidf"
   ]
  },
  {
   "cell_type": "code",
   "execution_count": null,
   "id": "4b3196d2",
   "metadata": {},
   "outputs": [],
   "source": [
    "tfidfA = []\n",
    "for i in range(len(please)):\n",
    "    \n",
    "    dictionary = func_data.iloc[i]\n",
    "    dictionary = pd.DataFrame(dictionary)\n",
    "    dictionary = dictionary.to_dict()\n",
    "    for x in dictionary.values():\n",
    "        p = x\n",
    "    tfidfA.append(computeTFIDF(p, tf_idf))\n",
    "df = pd.DataFrame(tfidfA)\n",
    "df"
   ]
  },
  {
   "cell_type": "code",
   "execution_count": null,
   "id": "883d7810",
   "metadata": {},
   "outputs": [],
   "source": []
  },
  {
   "cell_type": "code",
   "execution_count": null,
   "id": "258bebcd",
   "metadata": {
    "scrolled": true
   },
   "outputs": [],
   "source": [
    "# from sklearn.feature_extraction.text import CountVectorizer, TfidfVectorizer\n",
    "# tfidf_vect = TfidfVectorizer()\n",
    "# corpus = total_vocab\n",
    "# X1 = tfidf_vect.fit(corpus)\n",
    "# # print(cv.get_feature_names())\n",
    "# X1 = tfidf_vect.transform(corpus)\n",
    "# # print(X1.shape)\n",
    "# tf_data = pd.DataFrame(X1.toarray(), columns = tfidf_vect.get_feature_names())\n",
    "# from IPython.display import display, HTML\n",
    "\n",
    "# display(HTML((tf_data.head()).to_html()))\n"
   ]
  },
  {
   "cell_type": "code",
   "execution_count": null,
   "id": "b6f3c184",
   "metadata": {},
   "outputs": [],
   "source": [
    "# testData = pd.read_csv(\"Documents/Assignment 1/swad_test.csv\")\n",
    "# testData['Tweet'] = testData['Tweet'].str.lower()\n",
    "# for i in punctuations:\n",
    "#     testData['Tweet'] = testData['Tweet'].str.replace( i, \" %s \"%(i,), regex=True)\n",
    "\n",
    "# for i in range(len(testData['Tweet'])):\n",
    "#     x = testData['Tweet'][i].split()\n",
    "#     resultwords  = [word for word in x if word.lower() not in stopwords]\n",
    "#     testData['Tweet'][i] = ' '.join(resultwords)\n",
    "    \n",
    "# testData['Label'] = testData['Label'].replace({'No': 0, 'Yes': 1}).astype(int)\n",
    "# total_vocab_test = [x for x in testData['Tweet']]\n",
    "\n",
    "\n",
    "# tfidf_vect_test = TfidfVectorizer()\n",
    "# corpus_test = total_vocab_test\n",
    "# X1 = tfidf_vect_test.fit(corpus_test)\n",
    "# # print(cv.get_feature_names())\n",
    "# X1 = tfidf_vect_test.transform(corpus_test)\n",
    "# # print(X1.shape)\n",
    "# tf_data_test = pd.DataFrame(X1.toarray(), columns = tfidf_vect_test.get_feature_names())\n",
    "# from IPython.display import display, HTML\n",
    "\n",
    "# display(HTML((tf_data_test.head()).to_html()))"
   ]
  },
  {
   "cell_type": "code",
   "execution_count": null,
   "id": "f6b8729f",
   "metadata": {},
   "outputs": [],
   "source": [
    "X_train = df\n",
    "X_train = X_train.values\n",
    "data['Label'] =data['Label'].replace({'No': 0, 'Yes': 1}).astype(int)\n",
    "from sklearn.model_selection import train_test_split\n",
    "X_train, X_test, Y_train, Y_test = train_test_split(X_train,data['Label'], test_size=0.30)\n",
    "X_train = X_train.T\n",
    "X_test = X_test.T\n",
    "# Y_train = data['Label']\n",
    "Y_train = Y_train.values\n",
    "Y_train = pd.Series(Y_train)\n",
    "Y_train = Y_train.values\n",
    "Y_train = Y_train.reshape((1, X_train.shape[1]))\n",
    "Y_test = Y_test.values\n",
    "Y_test = pd.Series(Y_test)\n",
    "Y_test = Y_test.values\n",
    "Y_test = Y_test.reshape((1, X_test.shape[1]))\n",
    "print(X_train.shape)\n",
    "print(Y_train.shape)\n",
    "print(X_test.shape)\n",
    "print(Y_test.shape)"
   ]
  },
  {
   "cell_type": "code",
   "execution_count": null,
   "id": "ddd4e363",
   "metadata": {},
   "outputs": [],
   "source": [
    "\n"
   ]
  },
  {
   "cell_type": "code",
   "execution_count": null,
   "id": "7f97228f",
   "metadata": {},
   "outputs": [],
   "source": [
    "\n",
    "# Creating the Bag of Words model \n",
    "\n",
    "# word2count = {} \n",
    "# for j in data['Tweet']:\n",
    "#     j = j.split()\n",
    "#     words = j\n",
    "#     for word in words:\n",
    "#             if word not in word2count.keys(): \n",
    "#                 word2count[word] = 1\n",
    "#             else: \n",
    "#                 word2count[word] += 1\n",
    "# (word2count)"
   ]
  },
  {
   "cell_type": "code",
   "execution_count": null,
   "id": "1ac8767c",
   "metadata": {},
   "outputs": [],
   "source": [
    "# import heapq \n",
    "\n",
    "# freq_words = heapq.nlargest(500, word2count, key=word2count.get)"
   ]
  },
  {
   "cell_type": "code",
   "execution_count": null,
   "id": "cbc895ad",
   "metadata": {},
   "outputs": [],
   "source": [
    "def sigmoid(x):\n",
    "    output = 1 / (1 + np.exp(-x))\n",
    "    return output"
   ]
  },
  {
   "cell_type": "code",
   "execution_count": null,
   "id": "d222046f",
   "metadata": {},
   "outputs": [],
   "source": [
    "\n",
    "def model(X, Y, learning_rate, iterations):\n",
    "    \n",
    "    m = X_train.shape[1]\n",
    "    n = X_train.shape[0]\n",
    "    \n",
    "    W = np.zeros((n,1))\n",
    "    B = 0\n",
    "    \n",
    "    cost_list = []\n",
    "    \n",
    "    for i in range(iterations):\n",
    "        \n",
    "        Z = np.dot(W.T, X) + B\n",
    "        A = sigmoid(Z)\n",
    "        \n",
    "        # cost function\n",
    "        cost = -(1/m)*np.sum( Y*np.log(A) + (1-Y)*np.log(1-A))\n",
    "        \n",
    "        # Gradient Descent\n",
    "        dW = (1/m)*np.dot(A-Y, X.T)\n",
    "        dB = (1/m)*np.sum(A - Y)\n",
    "        \n",
    "        W = W - learning_rate*dW.T\n",
    "        B = B - learning_rate*dB\n",
    "        \n",
    "        # Keeping track of our cost function value\n",
    "        cost_list.append(cost)\n",
    "        \n",
    "        if(i%(iterations/10) == 0):\n",
    "            print(\"cost after \", i, \"iteration is : \", cost)\n",
    "        \n",
    "    return W, B, cost_list"
   ]
  },
  {
   "cell_type": "code",
   "execution_count": null,
   "id": "90351f8b",
   "metadata": {},
   "outputs": [],
   "source": [
    "iterations = 10000\n",
    "learning_rate = 0.0015\n",
    "W, B, cost_list = model(X_train, Y_train, learning_rate = learning_rate, iterations = iterations)"
   ]
  },
  {
   "cell_type": "code",
   "execution_count": null,
   "id": "1f659d24",
   "metadata": {},
   "outputs": [],
   "source": [
    "plt.plot(np.arange(iterations), cost_list)\n",
    "plt.show()"
   ]
  },
  {
   "cell_type": "code",
   "execution_count": null,
   "id": "1b6dc049",
   "metadata": {},
   "outputs": [],
   "source": [
    "def accuracy(X, Y, W, B):\n",
    "    print(Y)\n",
    "    Z = np.dot(W.T, X) + B\n",
    "    A = sigmoid(Z)\n",
    "    \n",
    "    A = A > 0.5\n",
    "    \n",
    "    A = np.array(A, dtype = 'int64')\n",
    "    \n",
    "    acc = (1 - np.sum(np.absolute(A - Y))/Y.shape[1])*100\n",
    "    \n",
    "    print(\"Accuracy of the model is : \", round(acc, 2), \"%\")"
   ]
  },
  {
   "cell_type": "code",
   "execution_count": null,
   "id": "6bcff99e",
   "metadata": {},
   "outputs": [],
   "source": [
    "accuracy(X_test, Y_test, W, B)"
   ]
  },
  {
   "cell_type": "code",
   "execution_count": null,
   "id": "7997aac4",
   "metadata": {},
   "outputs": [],
   "source": []
  },
  {
   "cell_type": "code",
   "execution_count": null,
   "id": "5042144f",
   "metadata": {},
   "outputs": [],
   "source": []
  },
  {
   "cell_type": "code",
   "execution_count": null,
   "id": "ba35481d",
   "metadata": {},
   "outputs": [],
   "source": []
  },
  {
   "cell_type": "code",
   "execution_count": null,
   "id": "7f4911dc",
   "metadata": {},
   "outputs": [],
   "source": []
  },
  {
   "cell_type": "code",
   "execution_count": null,
   "id": "796d7835",
   "metadata": {},
   "outputs": [],
   "source": []
  },
  {
   "cell_type": "code",
   "execution_count": null,
   "id": "14e70bc6",
   "metadata": {},
   "outputs": [],
   "source": []
  },
  {
   "cell_type": "code",
   "execution_count": null,
   "id": "87d455da",
   "metadata": {},
   "outputs": [],
   "source": []
  }
 ],
 "metadata": {
  "kernelspec": {
   "display_name": "Python 3 (ipykernel)",
   "language": "python",
   "name": "python3"
  },
  "language_info": {
   "codemirror_mode": {
    "name": "ipython",
    "version": 3
   },
   "file_extension": ".py",
   "mimetype": "text/x-python",
   "name": "python",
   "nbconvert_exporter": "python",
   "pygments_lexer": "ipython3",
   "version": "3.9.7"
  }
 },
 "nbformat": 4,
 "nbformat_minor": 5
}
