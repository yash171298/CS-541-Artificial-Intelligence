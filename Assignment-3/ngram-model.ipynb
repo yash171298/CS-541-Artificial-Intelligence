{
 "cells": [
  {
   "cell_type": "code",
   "execution_count": 1,
   "id": "b491d05c",
   "metadata": {},
   "outputs": [],
   "source": [
    "import numpy as np\n",
    "from collections import Counter, defaultdict\n",
    "import io, sys, math, re\n",
    "import pandas as pd"
   ]
  },
  {
   "cell_type": "code",
   "execution_count": 2,
   "id": "32c0e77d",
   "metadata": {},
   "outputs": [],
   "source": [
    "class language_model:\n",
    "\n",
    "    def __init__(self, ngram=2):\n",
    "        self.ngram = ngram\n",
    "\n",
    "    def unigram(self, text):\n",
    "        \n",
    "        data = {}\n",
    "        words = [word for sentence in text for word in sentence.split()]\n",
    "        word_length = len(set(words))\n",
    "        self.c = Counter(words)\n",
    "\n",
    "        for word in words:\n",
    "            data[word] = (self.c[word] / word_length)\n",
    "        return data, word_length\n",
    "    \n",
    "    def text_clean(self, text):\n",
    "        \n",
    "        text = text.strip('\\n').lower()\n",
    "        text = text.replace('\\n', ' ')\n",
    "\n",
    "        text = text.translate ({ord(c): \".\" for c in \"!:?\"})\n",
    "        text = text.translate ({ord(c): \"\" for c in \"\\\"\\''\"\"@#$%^&*()[]{};,/<>\\|`~=_+\"})\n",
    "        text = text.translate ({ord(c): \" \" for c in \"-\"})\n",
    "\n",
    "        sentences = ['<s> ' +\" \".join(sentence.split())+ ' </s>' for sentence in text.split('.') if sentence != \"\"]\n",
    "        return sentences\n",
    "\n",
    "    def ngram_generation(self, sentence, n):\n",
    "        \n",
    "        tokens = [token for token in sentence.split(\" \") if token != \"\"]\n",
    "        ngrams = zip(*[tokens[i:] for i in range(n)])\n",
    "        ngrams = [\" \".join(ngram) for ngram in ngrams]\n",
    "        ngrams = [tuple(sent.split()) for sent in ngrams]\n",
    "        return ngrams\n",
    "\n",
    "    \n",
    "    def perplexity(self, data):   \n",
    "        exp = [np.log2(v) for k,v in data.items()]\n",
    "        exp = sum(exp) / len(exp)\n",
    "        return np.power(2, -exp)\n",
    "\n",
    "\n",
    "    def train(self, file_name) :\n",
    "        with open(file_name, 'r', encoding=\"utf8\") as f:\n",
    "            text = f.read()\n",
    "        clean_text = self.text_clean(text)\n",
    "\n",
    "        if self.ngram == 1:\n",
    "            self.uni_data, self.uni_count = self.unigram(clean_text)\n",
    "            \n",
    "            new_dict = {}\n",
    "            for k,v in self.uni_data.items():\n",
    "                tup = []\n",
    "                tup = [tupl for tupl in k[0]]\n",
    "                tup.append(k[0])\n",
    "                new_dict[tuple(tup)] = v\n",
    "            self.uni_data = new_dict\n",
    "            self.uni_data_count = len(self.uni_data)\n",
    "        pass\n",
    "    \n",
    "\n",
    "    def test(self, file_name) :\n",
    "        with open(file_name, 'r', encoding=\"utf8\") as f:\n",
    "            test_text = f.read()\n",
    "        clean_test_text = self.text_clean(test_text)\n",
    "        test_dict = {}\n",
    "        self.zero_count = 0\n",
    "        self.sparsity = 0\n",
    "\n",
    "        if self.ngram == 1:\n",
    "            for sentence in clean_test_text:\n",
    "                for word in sentence.split():\n",
    "                    if word not in self.uni_data.keys():\n",
    "                        test_dict[word] = 1/self.uni_count\n",
    "                        self.zero_count += 1\n",
    "                    else:\n",
    "                        test_dict[word] = self.uni_data[word]\n",
    "            if self.zero_count:\n",
    "                self.sparsity = self.zero_count/len(test_dict)\n",
    "        return self.perplexity(test_dict)\n"
   ]
  },
  {
   "cell_type": "code",
   "execution_count": 3,
   "id": "8bd7e1f7",
   "metadata": {},
   "outputs": [
    {
     "data": {
      "text/plain": [
       "53681.0000000428"
      ]
     },
     "execution_count": 3,
     "metadata": {},
     "output_type": "execute_result"
    }
   ],
   "source": [
    "lm1= language_model(1)\n",
    "lm1.train(\"ted.txt\")\n",
    "lm1.test(\"test.ted.txt\")"
   ]
  },
  {
   "cell_type": "code",
   "execution_count": 4,
   "id": "abef6a48",
   "metadata": {},
   "outputs": [
    {
     "data": {
      "text/plain": [
       "53680.99999999785"
      ]
     },
     "execution_count": 4,
     "metadata": {},
     "output_type": "execute_result"
    }
   ],
   "source": [
    "lm1.train(\"ted.txt\")\n",
    "lm1.test(\"test.news.txt\")"
   ]
  },
  {
   "cell_type": "code",
   "execution_count": 5,
   "id": "76cd30eb",
   "metadata": {},
   "outputs": [
    {
     "data": {
      "text/plain": [
       "53681.000000047825"
      ]
     },
     "execution_count": 5,
     "metadata": {},
     "output_type": "execute_result"
    }
   ],
   "source": [
    "lm1.train(\"ted.txt\")\n",
    "lm1.test(\"test.reddit.txt\")"
   ]
  },
  {
   "cell_type": "markdown",
   "id": "ae40defb",
   "metadata": {},
   "source": [
    "# Part 3"
   ]
  },
  {
   "cell_type": "code",
   "execution_count": 6,
   "id": "c77a8ccf",
   "metadata": {},
   "outputs": [],
   "source": [
    "def load_data(filename):\n",
    "    fin = io.open(filename, 'r', encoding='utf-8')\n",
    "    data = []\n",
    "    vocab = defaultdict(lambda:0)\n",
    "    for line in fin:\n",
    "        sentence = line.split()\n",
    "        data.append(sentence)\n",
    "        for word in sentence:\n",
    "            vocab[word] += 1\n",
    "    return data, vocab"
   ]
  },
  {
   "cell_type": "code",
   "execution_count": 7,
   "id": "9fabed88",
   "metadata": {},
   "outputs": [],
   "source": [
    "def remove_rare_words(data, vocab, mincount):\n",
    "    data_with_unk = data[:]\n",
    "    for i in range(len(data_with_unk)):\n",
    "        for j in range(len(data_with_unk[i])):\n",
    "            if vocab[data_with_unk[i][j]] < mincount:\n",
    "                data_with_unk[i][j] = '<unk>'\n",
    "    return data_with_unk"
   ]
  },
  {
   "cell_type": "code",
   "execution_count": 8,
   "id": "0cbf911d",
   "metadata": {},
   "outputs": [],
   "source": [
    "train_data, vocab = load_data(\"reddit.txt\")\n",
    "train_data = remove_rare_words(train_data, vocab, 5)\n",
    "test_data, _ = load_data(\"test.ted.txt\")\n",
    "test_data = remove_rare_words(test_data, vocab, 5)"
   ]
  },
  {
   "cell_type": "code",
   "execution_count": 9,
   "id": "eaccd29a",
   "metadata": {},
   "outputs": [
    {
     "name": "stdout",
     "output_type": "stream",
     "text": [
      "Training and testing dataset loaded.\n"
     ]
    }
   ],
   "source": [
    "print(\"Training and testing dataset loaded.\")"
   ]
  },
  {
   "cell_type": "code",
   "execution_count": 10,
   "id": "91d47609",
   "metadata": {},
   "outputs": [],
   "source": [
    "def build_ngram(data, n):\n",
    "    total_number_words = 0\n",
    "    counts = defaultdict(lambda: defaultdict(lambda: 0.0))\n",
    "    assert n >= 1, 'n should be greater than 1'\n",
    "    for sentence in data:\n",
    "        sentence = tuple(sentence)\n",
    "        for gram_size in range(n):\n",
    "            for idx in range(len(sentence)):\n",
    "                total_number_words += 1.\n",
    "                if gram_size+idx < len(sentence):\n",
    "                    counts[sentence[idx:gram_size+idx]][sentence[idx+gram_size]] += 1.\n",
    "    total_number_words /= n\n",
    "    freq  = defaultdict(lambda: defaultdict(lambda: 0.0))\n",
    "    for context in counts:\n",
    "        for word in counts[context]:\n",
    "            freq[context][word] = counts[context][word]/sum(counts[context].values())\n",
    "    return freq"
   ]
  },
  {
   "cell_type": "code",
   "execution_count": 11,
   "id": "280f715a",
   "metadata": {},
   "outputs": [],
   "source": [
    "def get_prob(model, context, w):\n",
    "    return model[context][w] if model[context][w] != 0.0 else 0.4*get_prob(model, context[1:],w)\n",
    "\n",
    "def perplexity(model, data, n):\n",
    "    perp = 0.0\n",
    "    for sentence in data:\n",
    "        sentence = tuple(sentence)\n",
    "        probs = 0.0\n",
    "        for idx in range(1,len(sentence)):\n",
    "            probs += (-1.0/len(sentence))*np.log(get_prob(model, sentence[max(0,idx-n+1):idx], sentence[idx]))\n",
    "        perp += probs/len(data)\n",
    "    return np.exp(perp)"
   ]
  },
  {
   "cell_type": "code",
   "execution_count": 12,
   "id": "f833272b",
   "metadata": {},
   "outputs": [
    {
     "name": "stdout",
     "output_type": "stream",
     "text": [
      "build ngram model with n =  3\n"
     ]
    }
   ],
   "source": [
    "n = 3\n",
    "print(\"build ngram model with n = \", n)\n",
    "model = build_ngram(train_data, n)"
   ]
  },
  {
   "cell_type": "code",
   "execution_count": 13,
   "id": "6783fede",
   "metadata": {},
   "outputs": [
    {
     "data": {
      "text/plain": [
       "145.48119062006754"
      ]
     },
     "execution_count": 13,
     "metadata": {},
     "output_type": "execute_result"
    }
   ],
   "source": [
    "perplexity(model, test_data, n)"
   ]
  },
  {
   "cell_type": "code",
   "execution_count": 14,
   "id": "5798478a",
   "metadata": {},
   "outputs": [
    {
     "name": "stdout",
     "output_type": "stream",
     "text": [
      "load training set\n"
     ]
    }
   ],
   "source": [
    "print(\"load training set\")\n",
    "train_data2, vocab2 = load_data(\"ted.txt\")\n",
    "train_data2 = remove_rare_words(train_data2, vocab2, 5)"
   ]
  },
  {
   "cell_type": "code",
   "execution_count": 15,
   "id": "39a569dd",
   "metadata": {},
   "outputs": [
    {
     "name": "stdout",
     "output_type": "stream",
     "text": [
      "load validation set\n"
     ]
    }
   ],
   "source": [
    "print(\"load validation set\")\n",
    "test_data2, _ = load_data(\"test.ted.txt\")\n",
    "test_data2 = remove_rare_words(test_data2, vocab2, 5)"
   ]
  },
  {
   "cell_type": "code",
   "execution_count": 16,
   "id": "fac3a740",
   "metadata": {},
   "outputs": [
    {
     "name": "stdout",
     "output_type": "stream",
     "text": [
      "build ngram model with n =  3\n"
     ]
    }
   ],
   "source": [
    "n = 3\n",
    "print(\"build ngram model with n = \", n)\n",
    "model2 = build_ngram(train_data2, n)"
   ]
  },
  {
   "cell_type": "code",
   "execution_count": 17,
   "id": "6105d7fe",
   "metadata": {},
   "outputs": [
    {
     "data": {
      "text/plain": [
       "82.1259110330566"
      ]
     },
     "execution_count": 17,
     "metadata": {},
     "output_type": "execute_result"
    }
   ],
   "source": [
    "perplexity(model2, test_data2, n)"
   ]
  },
  {
   "cell_type": "markdown",
   "id": "2bb33589",
   "metadata": {},
   "source": [
    "Part 4 Smoothing "
   ]
  },
  {
   "cell_type": "code",
   "execution_count": 18,
   "id": "d62a4c0b",
   "metadata": {},
   "outputs": [],
   "source": [
    "def smoothing(model, context, w):\n",
    "    alpha=1\n",
    "    n = max([len(key) for key in model])+alpha\n",
    "    lambda_s = 1./n\n",
    "    s = len(context)\n",
    "    probs = 0.0\n",
    "    for i in range(n):\n",
    "        probs += lambda_s*get_prob(model, context[s-1-i:], w)\n",
    "    return probs\n",
    "\n",
    "def smooth_perplexity(model, data, n):\n",
    "    perp = 0.0\n",
    "    for sentence in data:\n",
    "        sentence = tuple(sentence)\n",
    "        probs = 0.0\n",
    "        for idx in range(1,len(sentence)):\n",
    "            probs += (-1.0/len(sentence))*np.log(smoothing(model, sentence[max(0,idx-n+1):idx], sentence[idx]))\n",
    "        perp += probs/len(data)\n",
    "    return np.exp(perp)"
   ]
  },
  {
   "cell_type": "code",
   "execution_count": 19,
   "id": "94a0e6c7",
   "metadata": {},
   "outputs": [],
   "source": [
    "train_data_s, vocab_s = load_data(\"reddit.txt\")\n",
    "train_data_s = remove_rare_words(train_data_s, vocab_s, 5)\n",
    "test_data_s, _ = load_data(\"test.ted.txt\")\n",
    "test_data = remove_rare_words(test_data_s, vocab_s, 5)"
   ]
  },
  {
   "cell_type": "code",
   "execution_count": 20,
   "id": "61d0a5c5",
   "metadata": {},
   "outputs": [
    {
     "name": "stdout",
     "output_type": "stream",
     "text": [
      "Training and testing dataset loaded\n"
     ]
    }
   ],
   "source": [
    "print(\"Training and testing dataset loaded\")"
   ]
  },
  {
   "cell_type": "code",
   "execution_count": 21,
   "id": "b3c06a71",
   "metadata": {},
   "outputs": [
    {
     "name": "stdout",
     "output_type": "stream",
     "text": [
      "build ngram model with n =  2\n"
     ]
    }
   ],
   "source": [
    "n = 2\n",
    "print(\"build ngram model with n = \", n)\n",
    "model_s = build_ngram(train_data_s, n)"
   ]
  },
  {
   "cell_type": "code",
   "execution_count": 22,
   "id": "e373a78f",
   "metadata": {},
   "outputs": [
    {
     "data": {
      "text/plain": [
       "114.17708228241057"
      ]
     },
     "execution_count": 22,
     "metadata": {},
     "output_type": "execute_result"
    }
   ],
   "source": [
    "smooth_perplexity(model_s, test_data_s, n)"
   ]
  },
  {
   "cell_type": "code",
   "execution_count": 23,
   "id": "a6a6e620",
   "metadata": {},
   "outputs": [
    {
     "name": "stdout",
     "output_type": "stream",
     "text": [
      "load training set\n"
     ]
    }
   ],
   "source": [
    "train_data_s2, vocab_s2 = load_data(\"ted.txt\")\n",
    "train_data_s2 = remove_rare_words(train_data_s2, vocab_s2, 5)\n",
    "test_data_s2, _ = load_data(\"test.ted.txt\")\n",
    "test_data_s2 = remove_rare_words(test_data_s2, vocab_s2, 5)"
   ]
  },
  {
   "cell_type": "code",
   "execution_count": 27,
   "id": "4d8e1871",
   "metadata": {},
   "outputs": [
    {
     "name": "stdout",
     "output_type": "stream",
     "text": [
      "Training and testing dataset.\n"
     ]
    }
   ],
   "source": [
    "print(\"Training and testing dataset.\")"
   ]
  },
  {
   "cell_type": "code",
   "execution_count": 25,
   "id": "479fd253",
   "metadata": {},
   "outputs": [
    {
     "name": "stdout",
     "output_type": "stream",
     "text": [
      "build ngram model with n =  2\n"
     ]
    }
   ],
   "source": [
    "n = 2\n",
    "print(\"build ngram model with n = \", n)\n",
    "model_s2 = build_ngram(train_data_s2, n)"
   ]
  },
  {
   "cell_type": "code",
   "execution_count": 26,
   "id": "11d52780",
   "metadata": {},
   "outputs": [
    {
     "data": {
      "text/plain": [
       "90.6521823804276"
      ]
     },
     "execution_count": 26,
     "metadata": {},
     "output_type": "execute_result"
    }
   ],
   "source": [
    "smooth_perplexity(model_s2, test_data_s2, n)"
   ]
  },
  {
   "cell_type": "code",
   "execution_count": null,
   "id": "b743561f",
   "metadata": {},
   "outputs": [],
   "source": []
  }
 ],
 "metadata": {
  "kernelspec": {
   "display_name": "Python 3 (ipykernel)",
   "language": "python",
   "name": "python3"
  },
  "language_info": {
   "codemirror_mode": {
    "name": "ipython",
    "version": 3
   },
   "file_extension": ".py",
   "mimetype": "text/x-python",
   "name": "python",
   "nbconvert_exporter": "python",
   "pygments_lexer": "ipython3",
   "version": "3.9.7"
  }
 },
 "nbformat": 4,
 "nbformat_minor": 5
}
