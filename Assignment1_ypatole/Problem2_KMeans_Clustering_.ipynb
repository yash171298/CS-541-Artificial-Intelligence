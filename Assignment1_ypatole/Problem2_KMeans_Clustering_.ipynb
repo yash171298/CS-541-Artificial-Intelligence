{
 "cells": [
  {
   "cell_type": "code",
   "execution_count": null,
   "id": "9b3e70c4",
   "metadata": {},
   "outputs": [],
   "source": [
    "import numpy as np\n",
    "import pandas as pd\n",
    "import matplotlib.pyplot as plt\n",
    "import seaborn as sns\n",
    "import warnings\n",
    "warnings.filterwarnings('ignore')"
   ]
  },
  {
   "cell_type": "code",
   "execution_count": null,
   "id": "dd227593",
   "metadata": {},
   "outputs": [],
   "source": [
    "data = pd.read_csv('Assignment 1\\income.csv')\n",
    "print(\"Shape of the data= \", data.shape)\n",
    "data.head()"
   ]
  },
  {
   "cell_type": "code",
   "execution_count": null,
   "id": "7de08510",
   "metadata": {},
   "outputs": [],
   "source": [
    "print(data.isnull().sum())\n",
    "data['age'] = data['age'].fillna(data['age'].mean())\n",
    "data['fnlwgt'] = data['fnlwgt'].fillna(data['fnlwgt'].mean())\n",
    "data['hours-per-week'] = data['hours-per-week'].fillna(data['hours-per-week'].mean())\n",
    "data['education-num'] = data['education-num'].fillna(data['education-num'].mean())\n",
    "data['capital-loss'] = data['capital-loss'].fillna(data['capital-loss'].mean())\n",
    "data['capital-gain'] = data['capital-gain'].fillna(data['capital-gain'].mean())\n",
    "data.head()"
   ]
  },
  {
   "cell_type": "code",
   "execution_count": null,
   "id": "5562d6cb",
   "metadata": {},
   "outputs": [],
   "source": [
    "data.columns"
   ]
  },
  {
   "cell_type": "code",
   "execution_count": null,
   "id": "7bc2902a",
   "metadata": {},
   "outputs": [],
   "source": [
    "X_data = data[['age', 'fnlwgt', 'education-num', 'capital-gain', 'capital-loss', 'hours-per-week']]\n",
    "X_data = X_data.apply(lambda x : (x - x.min(axis = 0))  / (x.max(axis = 0) - x.min(axis = 0)))\n",
    "print(X_data.head())"
   ]
  },
  {
   "cell_type": "code",
   "execution_count": null,
   "id": "63e33cb6",
   "metadata": {},
   "outputs": [],
   "source": [
    "data['sex'] = pd.factorize(data.sex)[0]\n",
    "data['race'] = pd.factorize(data.race)[0]\n",
    "data['workclass'] = pd.factorize(data.workclass)[0]\n",
    "data['education'] = pd.factorize(data.education)[0]\n",
    "data['occupation'] = pd.factorize(data.occupation)[0]\n",
    "data['relationship'] = pd.factorize(data.relationship)[0]\n",
    "data['native-country'] = pd.factorize(data['native-country'])[0]\n",
    "data['marital-status'] = pd.factorize(data['marital-status'])[0]\n",
    "data.head()"
   ]
  },
  {
   "cell_type": "code",
   "execution_count": null,
   "id": "9d6afa41",
   "metadata": {},
   "outputs": [],
   "source": [
    "data = data.loc[:, ['age', 'fnlwgt']]\n",
    "X = data.values\n",
    "X"
   ]
  },
  {
   "cell_type": "code",
   "execution_count": null,
   "id": "911b46c8",
   "metadata": {
    "scrolled": true
   },
   "outputs": [],
   "source": [
    "sns.scatterplot(X[:,0], X[:, 1])\n",
    "plt.xlabel('fn')\n",
    "plt.ylabel('age')\n",
    "plt.show()"
   ]
  },
  {
   "cell_type": "code",
   "execution_count": null,
   "id": "803ee645",
   "metadata": {},
   "outputs": [],
   "source": [
    "def calculate_cost(X, centroids, cluster):\n",
    "    sum = 0\n",
    "    for i, val in enumerate(X):\n",
    "        sum += np.sqrt((centroids[int(cluster[i]), 0]-val[0])**2 +(centroids[int(cluster[i]), 1]-val[1])**2)\n",
    "    return sum"
   ]
  },
  {
   "cell_type": "code",
   "execution_count": null,
   "id": "33d5ddf7",
   "metadata": {},
   "outputs": [],
   "source": [
    "def kmeans(X, k):\n",
    "    diff = 1\n",
    "    cluster = np.zeros(X.shape[0])\n",
    "    centroids = data.sample(n=k).values\n",
    "    while diff:\n",
    "        for i, row in enumerate(X):\n",
    "            mn_dist = float('inf')\n",
    "        # dist of the point from all centroids\n",
    "            for idx, centroid in enumerate(centroids):\n",
    "                d = np.sqrt((centroid[0]-row[0])**2 + (centroid[1]-row[1])**2)\n",
    "            # store closest centroid\n",
    "                if mn_dist > d:\n",
    "                    mn_dist = d\n",
    "                    cluster[i] = idx\n",
    "        new_centroids = pd.DataFrame(X).groupby(by=cluster).mean().values\n",
    "     # if centroids are same then leave\n",
    "    \n",
    "        if np.count_nonzero(centroids-new_centroids) == 0:\n",
    "            diff = 0\n",
    "        else:\n",
    "            centroids = new_centroids\n",
    "    return centroids, cluster"
   ]
  },
  {
   "cell_type": "code",
   "execution_count": null,
   "id": "8d48999a",
   "metadata": {},
   "outputs": [],
   "source": [
    "cost_list = []\n",
    "for k in range(1, 10):\n",
    "    print(\"hey working\")\n",
    "    centroids, cluster = kmeans(X, k)\n",
    "    # WCSS (Within cluster sum of square)\n",
    "    cost = calculate_cost(X, centroids, cluster)\n",
    "    cost_list.append(cost)\n",
    "print(cost_list)"
   ]
  },
  {
   "cell_type": "code",
   "execution_count": null,
   "id": "626550e5",
   "metadata": {},
   "outputs": [],
   "source": [
    "plt.figure(figsize=(5,3))\n",
    "sns.lineplot(x=range(1,10), y=cost_list, marker='o')\n",
    "plt.scatter(5,cost_list[4], s = 200, c = 'red', marker='*')\n",
    "plt.xlabel('k')\n",
    "plt.ylabel('WCSS')\n",
    "plt.show()"
   ]
  },
  {
   "cell_type": "code",
   "execution_count": null,
   "id": "df0ada0c",
   "metadata": {},
   "outputs": [],
   "source": []
  },
  {
   "cell_type": "code",
   "execution_count": null,
   "id": "d8a6339e",
   "metadata": {},
   "outputs": [],
   "source": []
  }
 ],
 "metadata": {
  "kernelspec": {
   "display_name": "Python 3 (ipykernel)",
   "language": "python",
   "name": "python3"
  },
  "language_info": {
   "codemirror_mode": {
    "name": "ipython",
    "version": 3
   },
   "file_extension": ".py",
   "mimetype": "text/x-python",
   "name": "python",
   "nbconvert_exporter": "python",
   "pygments_lexer": "ipython3",
   "version": "3.9.7"
  }
 },
 "nbformat": 4,
 "nbformat_minor": 5
}
