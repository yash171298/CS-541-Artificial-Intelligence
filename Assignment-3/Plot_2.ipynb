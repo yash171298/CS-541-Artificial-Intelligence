{
 "cells": [
  {
   "cell_type": "code",
   "execution_count": 23,
   "id": "a2734902",
   "metadata": {},
   "outputs": [],
   "source": [
    "import pandas as pd\n",
    "from itertools import cycle, islice"
   ]
  },
  {
   "cell_type": "code",
   "execution_count": 30,
   "id": "802c69a4",
   "metadata": {},
   "outputs": [],
   "source": [
    "n=[\"n=1\",\"n=2\",\"n=3\",\"n=4\",\"n=5\",\"n=6\",\"n=7\"]\n",
    "ted= [313.91,91.56,75.53,115.86,209.19,357.33,594.25]\n",
    "red= [549.54,211.62,241.39,493.95,913.89,1635.46,2743.56]\n",
    "news=[708.12,247.89,358.11,665.89,1314.88,2512.91,4635.04]"
   ]
  },
  {
   "cell_type": "code",
   "execution_count": 31,
   "id": "8315c5b0",
   "metadata": {},
   "outputs": [
    {
     "data": {
      "text/html": [
       "<div>\n",
       "<style scoped>\n",
       "    .dataframe tbody tr th:only-of-type {\n",
       "        vertical-align: middle;\n",
       "    }\n",
       "\n",
       "    .dataframe tbody tr th {\n",
       "        vertical-align: top;\n",
       "    }\n",
       "\n",
       "    .dataframe thead th {\n",
       "        text-align: right;\n",
       "    }\n",
       "</style>\n",
       "<table border=\"1\" class=\"dataframe\">\n",
       "  <thead>\n",
       "    <tr style=\"text-align: right;\">\n",
       "      <th></th>\n",
       "      <th>N-GRAMS</th>\n",
       "      <th>test_ted</th>\n",
       "      <th>test_reddit</th>\n",
       "      <th>test_news</th>\n",
       "    </tr>\n",
       "  </thead>\n",
       "  <tbody>\n",
       "    <tr>\n",
       "      <th>0</th>\n",
       "      <td>n=1</td>\n",
       "      <td>313.91</td>\n",
       "      <td>549.54</td>\n",
       "      <td>708.12</td>\n",
       "    </tr>\n",
       "    <tr>\n",
       "      <th>1</th>\n",
       "      <td>n=2</td>\n",
       "      <td>91.56</td>\n",
       "      <td>211.62</td>\n",
       "      <td>247.89</td>\n",
       "    </tr>\n",
       "    <tr>\n",
       "      <th>2</th>\n",
       "      <td>n=3</td>\n",
       "      <td>75.53</td>\n",
       "      <td>241.39</td>\n",
       "      <td>358.11</td>\n",
       "    </tr>\n",
       "    <tr>\n",
       "      <th>3</th>\n",
       "      <td>n=4</td>\n",
       "      <td>115.86</td>\n",
       "      <td>493.95</td>\n",
       "      <td>665.89</td>\n",
       "    </tr>\n",
       "    <tr>\n",
       "      <th>4</th>\n",
       "      <td>n=5</td>\n",
       "      <td>209.19</td>\n",
       "      <td>913.89</td>\n",
       "      <td>1314.88</td>\n",
       "    </tr>\n",
       "    <tr>\n",
       "      <th>5</th>\n",
       "      <td>n=6</td>\n",
       "      <td>357.33</td>\n",
       "      <td>1635.46</td>\n",
       "      <td>2512.91</td>\n",
       "    </tr>\n",
       "    <tr>\n",
       "      <th>6</th>\n",
       "      <td>n=7</td>\n",
       "      <td>594.25</td>\n",
       "      <td>2743.56</td>\n",
       "      <td>4635.04</td>\n",
       "    </tr>\n",
       "  </tbody>\n",
       "</table>\n",
       "</div>"
      ],
      "text/plain": [
       "  N-GRAMS  test_ted  test_reddit  test_news\n",
       "0     n=1    313.91       549.54     708.12\n",
       "1     n=2     91.56       211.62     247.89\n",
       "2     n=3     75.53       241.39     358.11\n",
       "3     n=4    115.86       493.95     665.89\n",
       "4     n=5    209.19       913.89    1314.88\n",
       "5     n=6    357.33      1635.46    2512.91\n",
       "6     n=7    594.25      2743.56    4635.04"
      ]
     },
     "execution_count": 31,
     "metadata": {},
     "output_type": "execute_result"
    }
   ],
   "source": [
    "df= pd.DataFrame(ted)\n",
    "df[\"N-GRAMS\"]= n\n",
    "df[\"test_ted\"]= ted\n",
    "df[\"test_reddit\"]= red\n",
    "df[\"test_news\"]= news\n",
    "df.drop([0],axis=1)"
   ]
  },
  {
   "cell_type": "code",
   "execution_count": 32,
   "id": "8efc7ce5",
   "metadata": {},
   "outputs": [
    {
     "data": {
      "text/plain": [
       "<AxesSubplot:xlabel='N-GRAMS'>"
      ]
     },
     "execution_count": 32,
     "metadata": {},
     "output_type": "execute_result"
    },
    {
     "data": {
      "image/png": "[encoded data removed]",
      "text/plain": [
       "<Figure size 432x288 with 1 Axes>"
      ]
     },
     "metadata": {
      "needs_background": "light"
     },
     "output_type": "display_data"
    }
   ],
   "source": [
    "my_colors = list(islice(cycle(['b', 'r', 'g', 'y', 'k']), None, len(df)))\n",
    "df.plot(x=\"N-GRAMS\",y=[\"test_ted\",\"test_reddit\",\"test_news\"],kind=\"bar\",rot=3,color=my_colors)"
   ]
  },
  {
   "cell_type": "code",
   "execution_count": 33,
   "id": "bbaa88bd",
   "metadata": {},
   "outputs": [],
   "source": [
    "n_=[\"n=1\",\"n=2\",\"n=3\",\"n=4\",\"n=5\",\"n=6\",\"n=7\"]"
   ]
  },
  {
   "cell_type": "code",
   "execution_count": 35,
   "id": "9fa95938",
   "metadata": {},
   "outputs": [],
   "source": [
    "ted2=[270.98,114.17,129.68,269.98,485.64,851.75,1424.02]\n",
    "red2=[345.54,126.47,174.89,319.25,566.72,1001.35,1670.27]\n",
    "news2=[428.15,227.81,352.30,702.47,1401.25,2713.39,4839.61]"
   ]
  },
  {
   "cell_type": "code",
   "execution_count": 36,
   "id": "a0145c4e",
   "metadata": {},
   "outputs": [
    {
     "data": {
      "text/html": [
       "<div>\n",
       "<style scoped>\n",
       "    .dataframe tbody tr th:only-of-type {\n",
       "        vertical-align: middle;\n",
       "    }\n",
       "\n",
       "    .dataframe tbody tr th {\n",
       "        vertical-align: top;\n",
       "    }\n",
       "\n",
       "    .dataframe thead th {\n",
       "        text-align: right;\n",
       "    }\n",
       "</style>\n",
       "<table border=\"1\" class=\"dataframe\">\n",
       "  <thead>\n",
       "    <tr style=\"text-align: right;\">\n",
       "      <th></th>\n",
       "      <th>N-GRAMS</th>\n",
       "      <th>test_ted</th>\n",
       "      <th>test_reddit</th>\n",
       "      <th>test_news</th>\n",
       "    </tr>\n",
       "  </thead>\n",
       "  <tbody>\n",
       "    <tr>\n",
       "      <th>0</th>\n",
       "      <td>n=1</td>\n",
       "      <td>270.98</td>\n",
       "      <td>345.54</td>\n",
       "      <td>428.15</td>\n",
       "    </tr>\n",
       "    <tr>\n",
       "      <th>1</th>\n",
       "      <td>n=2</td>\n",
       "      <td>114.17</td>\n",
       "      <td>126.47</td>\n",
       "      <td>227.81</td>\n",
       "    </tr>\n",
       "    <tr>\n",
       "      <th>2</th>\n",
       "      <td>n=3</td>\n",
       "      <td>129.68</td>\n",
       "      <td>174.89</td>\n",
       "      <td>352.30</td>\n",
       "    </tr>\n",
       "    <tr>\n",
       "      <th>3</th>\n",
       "      <td>n=4</td>\n",
       "      <td>269.98</td>\n",
       "      <td>319.25</td>\n",
       "      <td>702.47</td>\n",
       "    </tr>\n",
       "    <tr>\n",
       "      <th>4</th>\n",
       "      <td>n=5</td>\n",
       "      <td>485.64</td>\n",
       "      <td>566.72</td>\n",
       "      <td>1401.25</td>\n",
       "    </tr>\n",
       "    <tr>\n",
       "      <th>5</th>\n",
       "      <td>n=6</td>\n",
       "      <td>851.75</td>\n",
       "      <td>1001.35</td>\n",
       "      <td>2713.39</td>\n",
       "    </tr>\n",
       "    <tr>\n",
       "      <th>6</th>\n",
       "      <td>n=7</td>\n",
       "      <td>1424.02</td>\n",
       "      <td>1670.27</td>\n",
       "      <td>4839.61</td>\n",
       "    </tr>\n",
       "  </tbody>\n",
       "</table>\n",
       "</div>"
      ],
      "text/plain": [
       "  N-GRAMS  test_ted  test_reddit  test_news\n",
       "0     n=1    270.98       345.54     428.15\n",
       "1     n=2    114.17       126.47     227.81\n",
       "2     n=3    129.68       174.89     352.30\n",
       "3     n=4    269.98       319.25     702.47\n",
       "4     n=5    485.64       566.72    1401.25\n",
       "5     n=6    851.75      1001.35    2713.39\n",
       "6     n=7   1424.02      1670.27    4839.61"
      ]
     },
     "execution_count": 36,
     "metadata": {},
     "output_type": "execute_result"
    }
   ],
   "source": [
    "d_f= pd.DataFrame(test__ted)\n",
    "d_f[\"N-GRAMS\"]= n_\n",
    "d_f[\"test_ted\"]= ted2\n",
    "d_f[\"test_reddit\"]= red2\n",
    "d_f[\"test_news\"]= news2\n",
    "d_f.drop([0],axis=1)"
   ]
  },
  {
   "cell_type": "code",
   "execution_count": 37,
   "id": "8645c9b7",
   "metadata": {},
   "outputs": [
    {
     "data": {
      "text/plain": [
       "<AxesSubplot:xlabel='N-GRAMS'>"
      ]
     },
     "execution_count": 37,
     "metadata": {},
     "output_type": "execute_result"
    },
    {
     "data": {
      "image/png": "[encoded data removed]",
      "text/plain": [
       "<Figure size 432x288 with 1 Axes>"
      ]
     },
     "metadata": {
      "needs_background": "light"
     },
     "output_type": "display_data"
    }
   ],
   "source": [
    "d_f.plot(x=\"N-GRAMS\",y=[\"test_ted\",\"test_reddit\",\"test_news\"],kind=\"bar\",rot=0, color=my_colors)"
   ]
  },
  {
   "cell_type": "code",
   "execution_count": null,
   "id": "e440bc66",
   "metadata": {},
   "outputs": [],
   "source": []
  }
 ],
 "metadata": {
  "kernelspec": {
   "display_name": "Python 3 (ipykernel)",
   "language": "python",
   "name": "python3"
  },
  "language_info": {
   "codemirror_mode": {
    "name": "ipython",
    "version": 3
   },
   "file_extension": ".py",
   "mimetype": "text/x-python",
   "name": "python",
   "nbconvert_exporter": "python",
   "pygments_lexer": "ipython3",
   "version": "3.9.7"
  }
 },
 "nbformat": 4,
 "nbformat_minor": 5
}
